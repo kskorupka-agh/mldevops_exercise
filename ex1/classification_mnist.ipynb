{
 "cells": [
  {
   "cell_type": "code",
   "execution_count": 1,
   "metadata": {},
   "outputs": [],
   "source": [
    "from torch.utils.tensorboard import SummaryWriter"
   ]
  },
  {
   "cell_type": "code",
   "execution_count": 2,
   "metadata": {},
   "outputs": [],
   "source": [
    "# ~ tensorboard --logdir=./runs"
   ]
  },
  {
   "cell_type": "code",
   "execution_count": 3,
   "metadata": {},
   "outputs": [],
   "source": [
    "import torch\n",
    "from torch import nn\n",
    "from torch.utils.data import DataLoader\n",
    "from torchvision import datasets\n",
    "from torchvision.transforms import ToTensor\n",
    "import torch.nn.functional as F"
   ]
  },
  {
   "cell_type": "code",
   "execution_count": 4,
   "metadata": {},
   "outputs": [
    {
     "name": "stdout",
     "output_type": "stream",
     "text": [
      "device: cuda\n"
     ]
    }
   ],
   "source": [
    "if torch.backends.mps.is_available():\n",
    "    device = torch.device(\"mps\")\n",
    "elif torch.cuda.is_available():\n",
    "    device = torch.device(\"cuda\")\n",
    "else:\n",
    "    print(\"None of MPS or CUDA devices found.\")\n",
    "    device = torch.devuce(\"cpu\")\n",
    "print(f\"device: {device}\")"
   ]
  },
  {
   "cell_type": "code",
   "execution_count": 5,
   "metadata": {},
   "outputs": [],
   "source": [
    "train_data = datasets.FashionMNIST(\n",
    "    root=\"data\",\n",
    "    train=True,\n",
    "    download=True,\n",
    "    transform=ToTensor(),\n",
    ")\n",
    "test_data = datasets.FashionMNIST(\n",
    "    root=\"data\",\n",
    "    train=False,\n",
    "    download=True,\n",
    "    transform=ToTensor(),\n",
    ")"
   ]
  },
  {
   "cell_type": "code",
   "execution_count": 6,
   "metadata": {},
   "outputs": [],
   "source": [
    "train_dl = DataLoader(train_data, batch_size=64)\n",
    "test_dl = DataLoader(test_data, batch_size=64)"
   ]
  },
  {
   "cell_type": "code",
   "execution_count": 7,
   "metadata": {},
   "outputs": [],
   "source": [
    "image, label = train_data[0]\n",
    "channels, height, width = image.shape\n",
    "input_size = channels * height * width"
   ]
  },
  {
   "cell_type": "code",
   "execution_count": 8,
   "metadata": {},
   "outputs": [],
   "source": [
    "class CNN(nn.Module):\n",
    "    def __init__(self, img_height, img_width):\n",
    "        super(CNN, self).__init__()\n",
    "        self.conv1 = nn.Conv2d(1, 32, kernel_size=3, padding=1)\n",
    "        self.bn1 = nn.BatchNorm2d(32)\n",
    "        self.conv2 = nn.Conv2d(32, 64, kernel_size=3, padding=1)\n",
    "        self.bn2 = nn.BatchNorm2d(64)\n",
    "        self.conv3 = nn.Conv2d(64, 128, kernel_size=3, padding=1)\n",
    "        self.bn3 = nn.BatchNorm2d(128)\n",
    "        self.pool = nn.MaxPool2d(2, 2)\n",
    "\n",
    "        self.flattened_size = self._get_flattened_size(img_height, img_width)\n",
    "        self.fc1 = nn.Linear(self.flattened_size, 256)\n",
    "        self.fc2 = nn.Linear(256, 128)\n",
    "        self.fc3 = nn.Linear(128, 10)\n",
    "\n",
    "    def forward(self, x):\n",
    "        x = self.pool(F.relu(self.bn1(self.conv1(x))))\n",
    "        x = self.pool(F.relu(self.bn2(self.conv2(x))))\n",
    "        x = self.pool(F.relu(self.bn3(self.conv3(x))))\n",
    "        x = x.view(-1, self.flattened_size)\n",
    "        x = F.relu(self.fc1(x))\n",
    "        x = F.relu(self.fc2(x))\n",
    "        x = self.fc3(x)\n",
    "        return x\n",
    "\n",
    "    def _get_flattened_size(self, img_height, img_width):\n",
    "        dummy_input = torch.zeros(1, 1, img_height, img_width)\n",
    "        output = self.pool(F.relu(self.bn1(self.conv1(dummy_input))))\n",
    "        output = self.pool(F.relu(self.bn2(self.conv2(output))))\n",
    "        output = self.pool(F.relu(self.bn3(self.conv3(output))))\n",
    "        flattened_size = output.numel()\n",
    "        return flattened_size"
   ]
  },
  {
   "cell_type": "code",
   "execution_count": 9,
   "metadata": {},
   "outputs": [],
   "source": [
    "# class CNN(nn.Module):\n",
    "#     def __init__(self, img_height, img_width):\n",
    "#         super(CNN, self).__init__()\n",
    "#         self.conv1 = nn.Conv2d(1, 32, kernel_size=3, padding=1)\n",
    "#         self.conv2 = nn.Conv2d(32, 64, kernel_size=3, padding=1)\n",
    "#         self.pool = nn.MaxPool2d(2, 2)\n",
    "\n",
    "#         self.flattened_size = self._get_flattened_size(img_height, img_width)\n",
    "#         self.fc1 = nn.Linear(self.flattened_size, 128)\n",
    "#         self.fc2 = nn.Linear(128, 10)\n",
    "\n",
    "#     def forward(self, x):\n",
    "#         x = self.pool(F.relu(self.conv1(x)))\n",
    "#         x = self.pool(F.relu(self.conv2(x)))\n",
    "#         x = x.view(-1, self.flattened_size)\n",
    "#         x = F.relu(self.fc1(x))\n",
    "#         x = self.fc2(x)\n",
    "#         return x\n",
    "\n",
    "#     def _get_flattened_size(self, img_height, img_width):\n",
    "#         \"\"\"\n",
    "#         This function calculates the flattened size of the tensor after passing through\n",
    "#         the conv and pooling layers. It uses a dummy tensor to compute the size dynamically.\n",
    "#         \"\"\"\n",
    "#         dummy_input = torch.zeros(1, 1, img_height, img_width)\n",
    "\n",
    "#         output = self.pool(F.relu(self.conv1(dummy_input)))\n",
    "#         output = self.pool(F.relu(self.conv2(output)))\n",
    "\n",
    "#         flattened_size = output.numel()\n",
    "#         return flattened_size"
   ]
  },
  {
   "cell_type": "code",
   "execution_count": 10,
   "metadata": {},
   "outputs": [],
   "source": [
    "model = CNN(height, width).to(device)"
   ]
  },
  {
   "cell_type": "code",
   "execution_count": 11,
   "metadata": {},
   "outputs": [],
   "source": [
    "learning_rate = 1e-3\n",
    "loss_fn = nn.CrossEntropyLoss()\n",
    "optimizer = torch.optim.SGD(model.parameters(), lr=learning_rate, momentum=0.5)"
   ]
  },
  {
   "cell_type": "code",
   "execution_count": 12,
   "metadata": {},
   "outputs": [],
   "source": [
    "from tqdm.notebook import tqdm"
   ]
  },
  {
   "cell_type": "code",
   "execution_count": 13,
   "metadata": {},
   "outputs": [],
   "source": [
    "def trainloop(dataloader, model, loss_fn, optimizer, writer, epoch):\n",
    "    size = len(dataloader.dataset)\n",
    "    model.train()\n",
    "    running_loss = 0.0\n",
    "    correct = 0\n",
    "    for batch, (X,y) in enumerate(dataloader):\n",
    "        X, y = X.to(device), y.to(device)\n",
    "        prediction = model(X)\n",
    "        loss = loss_fn(prediction, y)\n",
    "\n",
    "        optimizer.zero_grad()\n",
    "        loss.backward()\n",
    "        optimizer.step()\n",
    "\n",
    "        running_loss += loss.item()\n",
    "        correct += (prediction.argmax(1) == y).type(torch.float).sum().item()\n",
    "\n",
    "        if batch % 100 == 0:\n",
    "            loss_value = loss.item()\n",
    "            current = batch * len(X)\n",
    "            print(f\"loss: {loss_value:>7f} [{current:>5d}/{size:>5d}]\")\n",
    "    avg_loss = running_loss / len(dataloader)\n",
    "    accuracy = correct / size\n",
    "\n",
    "    writer.add_scalars(\"Loss\", {\"train\": avg_loss}, epoch)\n",
    "    writer.add_scalars(\"Accuracy\", {\"train\": accuracy}, epoch)\n",
    "\n",
    "    print(f\"Average Training Loss for epoch {epoch}: {avg_loss:.4f}, Accuracy: {accuracy:.4f}\")\n",
    "    return avg_loss, accuracy"
   ]
  },
  {
   "cell_type": "code",
   "execution_count": 14,
   "metadata": {},
   "outputs": [],
   "source": [
    "def evaluate(dataloader, model, loss_fn, writer, epoch):\n",
    "    size = len(dataloader.dataset)\n",
    "    num_batches = len(dataloader)\n",
    "    model.eval()\n",
    "    test_loss, correct = 0, 0\n",
    "\n",
    "    with torch.no_grad():\n",
    "        for X,y in dataloader:\n",
    "            X, y = X.to(device), y.to(device)\n",
    "            pred = model(X)\n",
    "            test_loss += loss_fn(pred, y).item()\n",
    "            correct += (pred.argmax(1) == y).type(torch.float).sum().item()\n",
    "\n",
    "    test_loss /= num_batches\n",
    "    accuracy = correct / size\n",
    "\n",
    "    writer.add_scalars(\"Loss\", {\"test\": test_loss}, epoch)\n",
    "    writer.add_scalars(\"Accuracy\", {\"test\": accuracy}, epoch)\n",
    "\n",
    "    print(f\"Test Error: \\n Accuracy: {(100*accuracy):>0.1f}%, Avg loss: {test_loss:>8f} \\n\")\n",
    "    return test_loss, accuracy"
   ]
  },
  {
   "cell_type": "code",
   "execution_count": 15,
   "metadata": {},
   "outputs": [],
   "source": [
    "from datetime import datetime"
   ]
  },
  {
   "cell_type": "code",
   "execution_count": 16,
   "metadata": {},
   "outputs": [
    {
     "data": {
      "application/vnd.jupyter.widget-view+json": {
       "model_id": "c54f678a8d00466990e738e33676fe76",
       "version_major": 2,
       "version_minor": 0
      },
      "text/plain": [
       "  0%|          | 0/10 [00:00<?, ?it/s]"
      ]
     },
     "metadata": {},
     "output_type": "display_data"
    },
    {
     "name": "stdout",
     "output_type": "stream",
     "text": [
      "loss: 2.299561 [    0/60000]\n",
      "loss: 2.129679 [ 6400/60000]\n",
      "loss: 1.878631 [12800/60000]\n",
      "loss: 1.655208 [19200/60000]\n",
      "loss: 1.346486 [25600/60000]\n",
      "loss: 1.199936 [32000/60000]\n",
      "loss: 1.047527 [38400/60000]\n",
      "loss: 0.909053 [44800/60000]\n",
      "loss: 0.882807 [51200/60000]\n",
      "loss: 0.808791 [57600/60000]\n",
      "Average Training Loss for epoch 0: 1.3688, Accuracy: 0.6341\n",
      "Test Error: \n",
      " Accuracy: 75.7%, Avg loss: 0.777247 \n",
      "\n",
      "loss: 0.737502 [    0/60000]\n",
      "loss: 0.822213 [ 6400/60000]\n",
      "loss: 0.516782 [12800/60000]\n",
      "loss: 0.740065 [19200/60000]\n",
      "loss: 0.672575 [25600/60000]\n",
      "loss: 0.646216 [32000/60000]\n",
      "loss: 0.649894 [38400/60000]\n",
      "loss: 0.615225 [44800/60000]\n",
      "loss: 0.623823 [51200/60000]\n",
      "loss: 0.571033 [57600/60000]\n",
      "Average Training Loss for epoch 1: 0.6408, Accuracy: 0.7824\n",
      "Test Error: \n",
      " Accuracy: 79.5%, Avg loss: 0.569883 \n",
      "\n",
      "loss: 0.478764 [    0/60000]\n",
      "loss: 0.586532 [ 6400/60000]\n",
      "loss: 0.350273 [12800/60000]\n",
      "loss: 0.592657 [19200/60000]\n",
      "loss: 0.540586 [25600/60000]\n",
      "loss: 0.546527 [32000/60000]\n",
      "loss: 0.523759 [38400/60000]\n",
      "loss: 0.586494 [44800/60000]\n",
      "loss: 0.565142 [51200/60000]\n",
      "loss: 0.472269 [57600/60000]\n",
      "Average Training Loss for epoch 2: 0.5094, Accuracy: 0.8214\n",
      "Test Error: \n",
      " Accuracy: 83.1%, Avg loss: 0.483861 \n",
      "\n",
      "loss: 0.374667 [    0/60000]\n",
      "loss: 0.469180 [ 6400/60000]\n",
      "loss: 0.287123 [12800/60000]\n",
      "loss: 0.517569 [19200/60000]\n",
      "loss: 0.469622 [25600/60000]\n",
      "loss: 0.497513 [32000/60000]\n",
      "loss: 0.449245 [38400/60000]\n",
      "loss: 0.575291 [44800/60000]\n",
      "loss: 0.517563 [51200/60000]\n",
      "loss: 0.408689 [57600/60000]\n",
      "Average Training Loss for epoch 3: 0.4370, Accuracy: 0.8470\n",
      "Test Error: \n",
      " Accuracy: 85.0%, Avg loss: 0.428151 \n",
      "\n",
      "loss: 0.318375 [    0/60000]\n",
      "loss: 0.392023 [ 6400/60000]\n",
      "loss: 0.243459 [12800/60000]\n",
      "loss: 0.464462 [19200/60000]\n",
      "loss: 0.412686 [25600/60000]\n",
      "loss: 0.462104 [32000/60000]\n",
      "loss: 0.396176 [38400/60000]\n",
      "loss: 0.552300 [44800/60000]\n",
      "loss: 0.469347 [51200/60000]\n",
      "loss: 0.361900 [57600/60000]\n",
      "Average Training Loss for epoch 4: 0.3878, Accuracy: 0.8630\n",
      "Test Error: \n",
      " Accuracy: 86.2%, Avg loss: 0.389401 \n",
      "\n",
      "loss: 0.281696 [    0/60000]\n",
      "loss: 0.340010 [ 6400/60000]\n",
      "loss: 0.207060 [12800/60000]\n",
      "loss: 0.425113 [19200/60000]\n",
      "loss: 0.365032 [25600/60000]\n",
      "loss: 0.437305 [32000/60000]\n",
      "loss: 0.356763 [38400/60000]\n",
      "loss: 0.517585 [44800/60000]\n",
      "loss: 0.428383 [51200/60000]\n",
      "loss: 0.329301 [57600/60000]\n",
      "Average Training Loss for epoch 5: 0.3529, Accuracy: 0.8750\n",
      "Test Error: \n",
      " Accuracy: 87.2%, Avg loss: 0.362546 \n",
      "\n",
      "loss: 0.256644 [    0/60000]\n",
      "loss: 0.305596 [ 6400/60000]\n",
      "loss: 0.178197 [12800/60000]\n",
      "loss: 0.392968 [19200/60000]\n",
      "loss: 0.329441 [25600/60000]\n",
      "loss: 0.421087 [32000/60000]\n",
      "loss: 0.327303 [38400/60000]\n",
      "loss: 0.482979 [44800/60000]\n",
      "loss: 0.394983 [51200/60000]\n",
      "loss: 0.306389 [57600/60000]\n",
      "Average Training Loss for epoch 6: 0.3274, Accuracy: 0.8840\n",
      "Test Error: \n",
      " Accuracy: 87.9%, Avg loss: 0.343027 \n",
      "\n",
      "loss: 0.237760 [    0/60000]\n",
      "loss: 0.280816 [ 6400/60000]\n",
      "loss: 0.154016 [12800/60000]\n",
      "loss: 0.365809 [19200/60000]\n",
      "loss: 0.303284 [25600/60000]\n",
      "loss: 0.406818 [32000/60000]\n",
      "loss: 0.307106 [38400/60000]\n",
      "loss: 0.450564 [44800/60000]\n",
      "loss: 0.368289 [51200/60000]\n",
      "loss: 0.289437 [57600/60000]\n",
      "Average Training Loss for epoch 7: 0.3078, Accuracy: 0.8903\n",
      "Test Error: \n",
      " Accuracy: 88.4%, Avg loss: 0.328779 \n",
      "\n",
      "loss: 0.223481 [    0/60000]\n",
      "loss: 0.261099 [ 6400/60000]\n",
      "loss: 0.135239 [12800/60000]\n",
      "loss: 0.343726 [19200/60000]\n",
      "loss: 0.283650 [25600/60000]\n",
      "loss: 0.397212 [32000/60000]\n",
      "loss: 0.294449 [38400/60000]\n",
      "loss: 0.422694 [44800/60000]\n",
      "loss: 0.343625 [51200/60000]\n",
      "loss: 0.275756 [57600/60000]\n",
      "Average Training Loss for epoch 8: 0.2918, Accuracy: 0.8959\n",
      "Test Error: \n",
      " Accuracy: 88.7%, Avg loss: 0.317456 \n",
      "\n",
      "loss: 0.211598 [    0/60000]\n",
      "loss: 0.247348 [ 6400/60000]\n",
      "loss: 0.119917 [12800/60000]\n",
      "loss: 0.323330 [19200/60000]\n",
      "loss: 0.267065 [25600/60000]\n",
      "loss: 0.384167 [32000/60000]\n",
      "loss: 0.285971 [38400/60000]\n",
      "loss: 0.396748 [44800/60000]\n",
      "loss: 0.319529 [51200/60000]\n",
      "loss: 0.263096 [57600/60000]\n",
      "Average Training Loss for epoch 9: 0.2781, Accuracy: 0.9010\n",
      "Test Error: \n",
      " Accuracy: 89.1%, Avg loss: 0.308357 \n",
      "\n"
     ]
    }
   ],
   "source": [
    "writer = SummaryWriter(f\"runs/fashion_mnist_experiment_improved_{datetime.now().strftime('%Y-%m-%d_%H-%M-%S')}\")\n",
    "num_epochs = 10\n",
    "\n",
    "# Example of running the training loop\n",
    "for epoch in tqdm(range(num_epochs)):\n",
    "    train_loss, train_acc = trainloop(train_dl, model, loss_fn, optimizer, writer, epoch)\n",
    "    test_loss, test_acc = evaluate(test_dl, model, loss_fn, writer, epoch)\n",
    "\n",
    "# Close the writer after training\n",
    "writer.close()"
   ]
  },
  {
   "cell_type": "code",
   "execution_count": 17,
   "metadata": {},
   "outputs": [],
   "source": [
    "torch.save(model.state_dict(), \"fashion_mnist_cnn.pth\")"
   ]
  },
  {
   "cell_type": "code",
   "execution_count": 18,
   "metadata": {},
   "outputs": [
    {
     "name": "stderr",
     "output_type": "stream",
     "text": [
      "/tmp/ipykernel_13351/2690256528.py:2: FutureWarning: You are using `torch.load` with `weights_only=False` (the current default value), which uses the default pickle module implicitly. It is possible to construct malicious pickle data which will execute arbitrary code during unpickling (See https://github.com/pytorch/pytorch/blob/main/SECURITY.md#untrusted-models for more details). In a future release, the default value for `weights_only` will be flipped to `True`. This limits the functions that could be executed during unpickling. Arbitrary objects will no longer be allowed to be loaded via this mode unless they are explicitly allowlisted by the user via `torch.serialization.add_safe_globals`. We recommend you start setting `weights_only=True` for any use case where you don't have full control of the loaded file. Please open an issue on GitHub for any issues related to this experimental feature.\n",
      "  model.load_state_dict(torch.load('fashion_mnist_cnn.pth'))\n"
     ]
    },
    {
     "data": {
      "text/plain": [
       "<All keys matched successfully>"
      ]
     },
     "execution_count": 18,
     "metadata": {},
     "output_type": "execute_result"
    }
   ],
   "source": [
    "model = CNN(height, width)\n",
    "model.load_state_dict(torch.load(\"fashion_mnist_cnn.pth\"))"
   ]
  },
  {
   "cell_type": "code",
   "execution_count": 19,
   "metadata": {},
   "outputs": [],
   "source": [
    "import numpy as np\n",
    "import matplotlib.pyplot as plt"
   ]
  },
  {
   "cell_type": "code",
   "execution_count": 20,
   "metadata": {},
   "outputs": [],
   "source": [
    "label_mappings = {\n",
    "    0: \"T-shirt/Top\",\n",
    "    1: \"Trouser\",\n",
    "    2: \"Pullover\",\n",
    "    3: \"Dress\",\n",
    "    4: \"Coat\",\n",
    "    5: \"Sandal\",\n",
    "    6: \"Shirt\",\n",
    "    7: \"Sneaker\",\n",
    "    8: \"Bag\",\n",
    "    9: \"Ankle Boot\",\n",
    "}"
   ]
  },
  {
   "cell_type": "code",
   "execution_count": 21,
   "metadata": {},
   "outputs": [
    {
     "data": {
      "image/png": "[encoded data removed]",
      "text/plain": [
       "<Figure size 1500x1000 with 15 Axes>"
      ]
     },
     "metadata": {},
     "output_type": "display_data"
    }
   ],
   "source": [
    "for X, y in test_dl:\n",
    "    with torch.no_grad():\n",
    "        pred = model(X)\n",
    "        fig, ax = plt.subplots(3, 5, figsize=(15, 10))\n",
    "        plt.gray()\n",
    "        for j in range(3):\n",
    "            for i in range(5):\n",
    "                ax[j][i].imshow(X.squeeze()[j * 5 + i])\n",
    "                label = label_mappings[y.numpy()[j * 5 + i]]\n",
    "                ax[j][i].axis(\"off\")\n",
    "                predicted_label = label_mappings[np.argmax(pred[j * 5 + i]).item()]\n",
    "                ax[j][i].set_title(f\"Label: {label}\\nPredicted: {predicted_label}\")\n",
    "        plt.show()\n",
    "    break"
   ]
  },
  {
   "cell_type": "code",
   "execution_count": null,
   "metadata": {},
   "outputs": [],
   "source": []
  }
 ],
 "metadata": {
  "kernelspec": {
   "display_name": "ml-task",
   "language": "python",
   "name": "python3"
  },
  "language_info": {
   "codemirror_mode": {
    "name": "ipython",
    "version": 3
   },
   "file_extension": ".py",
   "mimetype": "text/x-python",
   "name": "python",
   "nbconvert_exporter": "python",
   "pygments_lexer": "ipython3",
   "version": "3.12.7"
  }
 },
 "nbformat": 4,
 "nbformat_minor": 2
}
